{
 "cells": [
  {
   "cell_type": "code",
   "execution_count": 5,
   "metadata": {},
   "outputs": [
    {
     "name": "stdout",
     "output_type": "stream",
     "text": [
      "El valor ingresado no es un número entero.\n"
     ]
    }
   ],
   "source": [
    "# Se quiere hacer un programa para pedirle al usuario que ingrese un número entero, y en caso de que el valor ingresado no sea un número entero,\n",
    "# mostrarle un mensaje apropiado.\n",
    "try:\n",
    "    numero = int(input(\"Ingrese un número entero: \"))\n",
    "    print(\"Número ingresado:\", numero)\n",
    "except ValueError:\n",
    "    print(\"El valor ingresado no es un número entero.\")"
   ]
  },
  {
   "cell_type": "code",
   "execution_count": 6,
   "metadata": {},
   "outputs": [
    {
     "name": "stdout",
     "output_type": "stream",
     "text": [
      "E producto entre 10 y 5 es 50\n"
     ]
    }
   ],
   "source": [
    "# Crear una función, utilizando el punto anterior, que le pida al usuario un número entero. Utilizarla para\n",
    "# calcular el producto entre dos números enteros ingresados.\n",
    "def pedir_numero():\n",
    "    try:\n",
    "        return int(input(\"Ingrese un número entero: \"))\n",
    "    except ValueError:\n",
    "        print(\"El valor ingresado no es un número entero.\")\n",
    "        return pedir_numero()\n",
    "\n",
    "n1 = pedir_numero()\n",
    "n2 = pedir_numero()\n",
    "\n",
    "print(f\"E producto entre {n1} y {n2} es {n1 * n2}\")"
   ]
  },
  {
   "cell_type": "code",
   "execution_count": 10,
   "metadata": {},
   "outputs": [
    {
     "name": "stdout",
     "output_type": "stream",
     "text": [
      "El cociente entre 50 y 5 es 10.0.\n"
     ]
    }
   ],
   "source": [
    "# Se quiere hacer un programa que le solicite al usuario un número divisor y un dividendo, y calcule el cociente entre ellos.\n",
    "# Considerar que el usuario podría brindar un valor no numérico o un divisor nulo.\n",
    "def pedir_numero():\n",
    "    try:\n",
    "        return int(input(\"Ingrese un número entero: \"))\n",
    "    except ValueError:\n",
    "        print(\"El valor ingresado no es un número entero.\")\n",
    "        return pedir_numero()\n",
    "\n",
    "try:\n",
    "    dividendo = pedir_numero()\n",
    "    divisor = pedir_numero()\n",
    "    cociente = dividendo / divisor\n",
    "except ZeroDivisionError:\n",
    "    print(\"No se puede dividir entre cero.\")\n",
    "else:\n",
    "    print(f\"El cociente entre {dividendo} y {divisor} es {cociente}.\")"
   ]
  },
  {
   "cell_type": "code",
   "execution_count": 11,
   "metadata": {},
   "outputs": [
    {
     "name": "stdout",
     "output_type": "stream",
     "text": [
      "No se pudo encontrar el archivo file.txt.\n"
     ]
    }
   ],
   "source": [
    "# Crear un programa para abrir un archivo llamado “file.txt” en modo lectura y en caso de que este archivo no exista,\n",
    "# mostrar el mensaje “No se pudo encontrar el archivo file.txt”.\n",
    "try:\n",
    "    archivo = open(\"file.txt\", \"r\")\n",
    "except FileNotFoundError:\n",
    "    print(\"No se pudo encontrar el archivo file.txt.\")\n",
    "else:\n",
    "    print(archivo.read())\n",
    "    archivo.close()"
   ]
  },
  {
   "cell_type": "code",
   "execution_count": 12,
   "metadata": {},
   "outputs": [
    {
     "name": "stdout",
     "output_type": "stream",
     "text": [
      "3\n",
      "El índice ingresado se encuentra fuera del rango.\n"
     ]
    }
   ],
   "source": [
    "# Crear una función cuyos parámetros sean una lista y un índice de posición para mostrar el valor de la lista en esa ubicación.\n",
    "# a) ¿Qué ocurre si ingreso un índice que se encuentra fuera del rango?\n",
    "# b) Si el valor del índice ingresado se encuentra dentro del rango, mostrar el valor. En caso contrario,\n",
    "# mostrar un mensaje apropiado para dicho error.\n",
    "def mostrar_valor(lista, indice):\n",
    "    try:\n",
    "        print(lista[indice])\n",
    "    except IndexError:\n",
    "        print(\"El índice ingresado se encuentra fuera del rango.\")\n",
    "\n",
    "lista = [1, 2, 3, 4, 5]\n",
    "mostrar_valor(lista, 2)\n",
    "mostrar_valor(lista, 5)"
   ]
  },
  {
   "cell_type": "code",
   "execution_count": 13,
   "metadata": {},
   "outputs": [
    {
     "name": "stdout",
     "output_type": "stream",
     "text": [
      "El valor ingresado no es un número.\n",
      "El valor ingresado no es un número.\n",
      "El valor ingresado no es un número.\n",
      "Debe haber al menos 2 jugadores.\n",
      "Se puede jugar con un máximo de 4 jugadores.\n",
      "El número de jugadores es: 4\n"
     ]
    }
   ],
   "source": [
    "# Para jugar al chinchón con un único mazo de cartas españolas, el número de jugadores puede ser: dos, tres o cuatro.\n",
    "# Crear una función que pida al usuario informar el número de jugadores, considerando que este puede ingresar:\n",
    "# un valor no válido, por ejemplo, una palabra.\n",
    "# - un valor menor a 2, en en cuyo caso, mostrar el mensaje \"Debe haber al menos 2 jugadores.\"\n",
    "# - un valor mayor a 4, en cuyo caso, mostrar el mensaje \"Se puede jugar con un máximo de 4 jugadores.\"\n",
    "# - un valor válido, en cuyo caso, mostrarlo.\n",
    "def pedir_numero_jugadores():\n",
    "    try:\n",
    "        jugadores = int(input(\"Ingrese el número de jugadores: \"))\n",
    "        if jugadores < 2:\n",
    "            print(\"Debe haber al menos 2 jugadores.\")\n",
    "            return pedir_numero_jugadores()\n",
    "        elif jugadores > 4:\n",
    "            print(\"Se puede jugar con un máximo de 4 jugadores.\")\n",
    "            return pedir_numero_jugadores()\n",
    "        return jugadores\n",
    "    except ValueError:\n",
    "        print(\"El valor ingresado no es un número.\")\n",
    "        return pedir_numero_jugadores()\n",
    "\n",
    "jugadores = pedir_numero_jugadores()\n",
    "print(f\"El número de jugadores es: {jugadores}\")"
   ]
  },
  {
   "cell_type": "code",
   "execution_count": 14,
   "metadata": {},
   "outputs": [
    {
     "name": "stdout",
     "output_type": "stream",
     "text": [
      "El valor ingresado no es un número.\n",
      "Debe haber al menos 2 jugadores.\n",
      "El valor ingresado no es un número.\n",
      "Debe haber al menos 2 jugadores.\n",
      "Debe haber un número par de jugadores.\n",
      "Se puede jugar con un máximo de 6 jugadores.\n",
      "Se puede jugar con un máximo de 6 jugadores.\n",
      "El número de jugadores es: 4\n"
     ]
    }
   ],
   "source": [
    "# Para jugar al truco con un único mazo de cartas españolas, el número de jugadores puede ser: dos, cuatro o seis.\n",
    "# Crear una función que pida al usuario informar el número de jugadores, considerando que este puede ingresar:\n",
    "# - un valor no válido, por ejemplo, una palabra.\n",
    "# - un valor menor a 2, en en cuyo caso, mostrar el mensaje \"Debe haber al menos 2 jugadores.\"\n",
    "# - un valor mayor a 6, en cuyo caso, mostrar el mensaje \"Se puede jugar con un máximo de 6 jugadores.\".\n",
    "# - un valor impar, como 3 y 5, en cuyo caso, mostrar el mensaje \"Debe haber un número par de jugadores.\".\n",
    "# - un valor válido, en cuyo caso, mostrarlo.\n",
    "def pedir_numero_jugadores():\n",
    "    try:\n",
    "        jugadores = int(input(\"Ingrese el número de jugadores: \"))\n",
    "        if jugadores < 2:\n",
    "            print(\"Debe haber al menos 2 jugadores.\")\n",
    "            return pedir_numero_jugadores()\n",
    "        elif jugadores > 6:\n",
    "            print(\"Se puede jugar con un máximo de 6 jugadores.\")\n",
    "            return pedir_numero_jugadores()\n",
    "        elif jugadores % 2 != 0:\n",
    "            print(\"Debe haber un número par de jugadores.\")\n",
    "            return pedir_numero_jugadores()\n",
    "        return jugadores\n",
    "    except ValueError:\n",
    "        print(\"El valor ingresado no es un número.\")\n",
    "        return pedir_numero_jugadores()\n",
    "\n",
    "jugadores = pedir_numero_jugadores()\n",
    "print(f\"El número de jugadores es: {jugadores}\")"
   ]
  },
  {
   "cell_type": "code",
   "execution_count": 19,
   "metadata": {},
   "outputs": [
    {
     "name": "stdout",
     "output_type": "stream",
     "text": [
      "1: hamburguesas -> 1000\n",
      "2: milanesas -> 1500\n",
      "3: gaseosa -> 500\n",
      "4: alfajor -> 300\n",
      "5: papas fritas -> 600\n",
      "6: agua -> 350\n",
      "\n",
      "La opción ingresada no es válida.\n",
      "La opción ingresada no es válida.\n",
      "La opción ingresada no es válida.\n",
      "La cantidad ingresada no es válida.\n",
      "La cantidad ingresada no es válida.\n",
      "La cantidad ingresada no es válida.\n",
      "Total a pagar: 1000\n"
     ]
    }
   ],
   "source": [
    "# El kiosko de la facultad quiere automatizar un letrero que tome datos de un programa y le cobre al estudiante.\n",
    "# Se tienen dos diccionarios, uno con un código y el producto, y otro con el código y el precio de cada producto.\n",
    "# Se quiere hacer un programa que muestre la información de la siguiente forma en la pantalla:\n",
    "# 1: hamburguesas -> 1000\n",
    "# 2: milanesas -> 1500\n",
    "# 3: gaseosa -> 500\n",
    "# 4: alfajor -> 300\n",
    "# 5: papas fritas -> 600\n",
    "# 6: agua -> 350\n",
    "# Y le pida al usuario una opción y una cantidad. Luego, debe imprimir el total a pagar.\n",
    "# Se debe considerar que el usuario podría ingresar una opción que no está en el diccionario, o ingresar\n",
    "# una opción que no sea un número. El usuario debe en esos casos imprimir un mensaje de error que sea\n",
    "# descriptivo y volver a pedirle al usuario que ingrese una opción.\n",
    "productos = {1: \"hamburguesas\", 2: \"milanesas\", 3: \"gaseosa\", 4: \"alfajor\", 5: \"papas fritas\", 6: \"agua\"}\n",
    "precios = {1: 1000, 2: 1500, 3: 500, 4: 300, 5: 600, 6: 350}\n",
    "\n",
    "def mostrar_productos():\n",
    "    for codigo, producto in productos.items():\n",
    "        print(f\"{codigo}: {producto} -> {precios[codigo]}\")\n",
    "    print() # Salto de línea adicional\n",
    "\n",
    "def pedir_opcion():\n",
    "    try:\n",
    "        opcion = int(input(\"Ingrese una opción: \"))\n",
    "        if opcion not in productos:\n",
    "            print(\"La opción ingresada no es válida.\")\n",
    "            return pedir_opcion()\n",
    "        return opcion\n",
    "    except ValueError:\n",
    "        print(\"La opción ingresada no es válida.\")\n",
    "        return pedir_opcion()\n",
    "\n",
    "def pedir_cantidad():\n",
    "    try:\n",
    "        cant = int(input(\"Ingrese la cantidad: \"))\n",
    "        if cant < 1:\n",
    "            print(\"La cantidad ingresada no es válida.\")\n",
    "            return pedir_cantidad()\n",
    "        return cant\n",
    "    except ValueError:\n",
    "        print(\"La cantidad ingresada no es válida.\")\n",
    "        return pedir_cantidad()\n",
    "\n",
    "mostrar_productos()\n",
    "opcion = pedir_opcion()\n",
    "cantidad = pedir_cantidad()\n",
    "total = precios[opcion] * cantidad\n",
    "print(f\"Total a pagar: {total}\")"
   ]
  }
 ],
 "metadata": {
  "kernelspec": {
   "display_name": "Python 3",
   "language": "python",
   "name": "python3"
  },
  "language_info": {
   "codemirror_mode": {
    "name": "ipython",
    "version": 3
   },
   "file_extension": ".py",
   "mimetype": "text/x-python",
   "name": "python",
   "nbconvert_exporter": "python",
   "pygments_lexer": "ipython3",
   "version": "3.12.3"
  }
 },
 "nbformat": 4,
 "nbformat_minor": 2
}
