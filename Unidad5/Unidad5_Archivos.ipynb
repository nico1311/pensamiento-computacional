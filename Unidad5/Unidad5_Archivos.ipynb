{
 "cells": [
  {
   "cell_type": "code",
   "execution_count": 3,
   "metadata": {},
   "outputs": [
    {
     "name": "stdout",
     "output_type": "stream",
     "text": [
      "> ¿Cómo estás hoy?\n",
      "Su respuesta fue: Bien porque me comí una hamburguesa!\n"
     ]
    }
   ],
   "source": [
    "# Se tiene un archivo con la pregunta “¿Cómo estás hoy?” llamado pregunta.txt. Se pide leerlo y mostrar la pregunta por pantalla\n",
    "# para luego pedirle al usuario que ingrese una respuesta. Después, guardar la respuesta dada por el usuario en el archivo.\n",
    "archivo = open(\"./archivos/ej1/pregunta.txt\", \"r+\")\n",
    "pregunta = archivo.read()\n",
    "print(f\"> {pregunta}\")\n",
    "respuesta = input(\"Ingrese su respuesta: \")\n",
    "print(f\"Su respuesta fue: {respuesta}\")\n",
    "archivo.write(\"\\n\" + respuesta)\n",
    "archivo.close()"
   ]
  },
  {
   "cell_type": "code",
   "execution_count": 12,
   "metadata": {},
   "outputs": [
    {
     "name": "stdout",
     "output_type": "stream",
     "text": [
      "Personas que participan en el regalo: Agus, Manu, Santi, Lorena, Maria, Tomi\n",
      "Ale tiene 6000 pesos para el regalo de Sol\n"
     ]
    }
   ],
   "source": [
    "# En un archivo llamado regalo.txt se tiene la lista de las personas que quieren participar en el regalo de cumpleaños de Sol\n",
    "# (en cada línea está el nombre de una persona). El encargado de organizar el regalo es Ale,\n",
    "# y quiere saber más información antes de ir a comprarle algo a Sol.\n",
    "\n",
    "# a. Mostrar por pantalla los nombres de las personas que quieren participar en el regalo\n",
    "# b. Se sabe que quieren poner 1000 pesos por persona por realo. Hacer una función que devuelva cuánto dinero tiene Ale para hacerle el regalo a Sol.\n",
    "# c. Tomi sabe que si participa Santi, también participa Tomi. Se pide que si Santi está en el archivo de los nombres, se agregue también a Tomi.\n",
    "\n",
    "# Leer el archivo y cargar los nombres en una lista\n",
    "archivo = open(\"./archivos/ej2/regalo.txt\", \"r+\")\n",
    "personas = []\n",
    "for line in archivo.readlines():\n",
    "    personas.append(line.strip())\n",
    "\n",
    "if \"Santi\" in personas:\n",
    "    personas.append(\"Tomi\")\n",
    "\n",
    "def calcular_dinero(personas):\n",
    "    return len(personas) * 1000\n",
    "\n",
    "print(f\"Personas que participan en el regalo: {\", \".join(personas)}\")\n",
    "print(f\"Ale tiene {calcular_dinero(personas)} pesos para el regalo de Sol\")\n",
    "\n",
    "# Escribir la lista de personas en el archivo y cerrarlo\n",
    "archivo.seek(0) # Mover el puntero al principio del archivo\n",
    "archivo.truncate() # Borrar todo\n",
    "archivo.write(\"\\n\".join(personas))\n",
    "archivo.close()"
   ]
  },
  {
   "cell_type": "code",
   "execution_count": 2,
   "metadata": {},
   "outputs": [
    {
     "name": "stdout",
     "output_type": "stream",
     "text": [
      "Se agregó a la lista: Mate\n",
      "Se agregó a la lista: Café\n",
      "Se agregó a la lista: Harina\n",
      "Se agregó a la lista: Palmitos\n",
      "Se agregó a la lista: Yerba\n",
      "Se agregó a la lista: Mermelada\n",
      "Se agregó a la lista: Cacao\n",
      "Se agregó a la lista: Picadillo\n",
      "Se agregó a la lista: Paté\n",
      "Se agregó a la lista: Caballa\n",
      "Se agregó a la lista: Arroz\n",
      "Se agregó a la lista: Arvejas\n",
      "Se agregó a la lista: Sardinas\n",
      "Se agregó a la lista: Atún\n",
      "Se agregó a la lista: Choclo\n",
      "Se agregó a la lista: Lentejas\n"
     ]
    }
   ],
   "source": [
    "# En un hogar se quieren organizar mejor con las compras, por lo que se quiere guardar en un archivo la lista de productos que se necesitan para\n",
    "# la próxima vez que la familia vaya al supermercado. Se pide hacer un programa que cree un archivo de compras.txt\n",
    "# y le pregunte al usuario qué necesita comprar hasta que ingrese una X.\n",
    "archivo = open(\"./archivos/ej3/compras.txt\", \"w\")\n",
    "productos = []\n",
    "\n",
    "while True:\n",
    "    producto = input(\"Ingrese el producto que desea agregar (o X para salir): \")\n",
    "    if producto.lower() == \"x\":\n",
    "        break\n",
    "    productos.append(producto)\n",
    "    print(f\"Se agregó a la lista: {producto}\")\n",
    "\n",
    "archivo.write(\"\\n\".join(productos))\n",
    "archivo.close()"
   ]
  },
  {
   "cell_type": "code",
   "execution_count": 22,
   "metadata": {},
   "outputs": [],
   "source": [
    "# Se pide hacer un programa que pida dos palabras: una que se quiera reemplazar y la palabra por la que se quiera reemplazar,\n",
    "# cambie el texto y lo guarde en el archivo otra vez. Por ejemplo, si la función\n",
    "# recibe “poco” y “mucho”, reemplaza “poco” por “mucho” todas las veces que aparezca en el texto.\n",
    "def reemplazar_palabras(archivo, palabra1, palabra2):\n",
    "  lineas = archivo.readlines()\n",
    "  for i in range(len(lineas)):\n",
    "    lineas[i] = lineas[i].replace(palabra1, palabra2)\n",
    "  archivo.seek(0)\n",
    "  archivo.truncate()\n",
    "  archivo.write(\"\".join(lineas))\n",
    "  archivo.close()\n",
    "\n",
    "archivo = open(\"./archivos/ej4/texto.txt\", \"r+\")\n",
    "palabra1 = input(\"¿Qué palabra desea reemplazar?: \")\n",
    "palabra2 = input(\"¿Por qué palabra desea reemplazarla?: \")\n",
    "reemplazar_palabras(archivo, palabra1, palabra2)"
   ]
  },
  {
   "cell_type": "code",
   "execution_count": 11,
   "metadata": {},
   "outputs": [
    {
     "name": "stdout",
     "output_type": "stream",
     "text": [
      "Stock de la librería:\n",
      "\n",
      "Nombre del producto: lapiceras\n",
      "Código del producto: 34512\n",
      "Precio por unidad: 50\n",
      "Stock: 120\n",
      "\n",
      "Nombre del producto: cuadernos\n",
      "Código del producto: 41611\n",
      "Precio por unidad: 500\n",
      "Stock: 130\n",
      "\n",
      "Nombre del producto: sacapuntas\n",
      "Código del producto: 62812\n",
      "Precio por unidad: 30\n",
      "Stock: 210\n",
      "\n"
     ]
    }
   ],
   "source": [
    "# Se tiene un archivo csv que contiene información sobre el stock de una librería. Se guarda por cada línea,\n",
    "# el nombre del producto, el código, el precio por unidad y el stock actual, es decir:\n",
    "# nombre;código;precio;stock\n",
    "# Un posible ejemplo de este archivo es el siguiente:\n",
    "# lapiceras;34512;50;120\n",
    "# cuadernos;41611;500;130\n",
    "# sacapuntas;62812;30;210\n",
    "# Leer el archivo y mostrarlo por pantalla\n",
    "# Hacer una función que reciba un diccionario que describa una línea del archivo y lo agregue\n",
    "archivo = open(\"./archivos/ej5/stock.csv\", \"r+\")\n",
    "productos = []\n",
    "\n",
    "for line in archivo.readlines():\n",
    "    producto = line.strip().split(\";\")\n",
    "    productos.append({\n",
    "        \"nombre\": producto[0],\n",
    "        \"codigo\": producto[1],\n",
    "        \"precio\": producto[2],\n",
    "        \"stock\": producto[3]\n",
    "    })\n",
    "\n",
    "print(\"Stock de la librería:\\n\")\n",
    "for producto in productos:\n",
    "    print(f\"Nombre del producto: {producto['nombre']}\")\n",
    "    print(f\"Código del producto: {producto['codigo']}\")\n",
    "    print(f\"Precio por unidad: {producto['precio']}\")\n",
    "    print(f\"Stock: {producto['stock']}\")\n",
    "    print()\n",
    "\n",
    "def agregar_producto(productos, producto):\n",
    "    productos.append(producto)\n",
    "    archivo.seek(0)\n",
    "    archivo.truncate()\n",
    "    for producto in productos:\n",
    "        archivo.write(f\"{producto['nombre']};{producto['codigo']};{producto['precio']};{producto['stock']}\\n\")\n",
    "\n",
    "producto = {\n",
    "    \"nombre\": \"folios\",\n",
    "    \"codigo\": \"12345\",\n",
    "    \"precio\": \"20\",\n",
    "    \"stock\": \"100\"\n",
    "}\n",
    "\n",
    "agregar_producto(productos, producto)\n",
    "archivo.close()"
   ]
  },
  {
   "cell_type": "code",
   "execution_count": 17,
   "metadata": {},
   "outputs": [
    {
     "name": "stdout",
     "output_type": "stream",
     "text": [
      "La cantidad de alumnos aprobados es: 3\n"
     ]
    }
   ],
   "source": [
    "# Una profesora tiene una lista de diccionarios para guardar las notas que sacaron sus alumnos en el último parcial que tomó.\n",
    "# Cada uno de esos diccionarios tiene el nombre del alumno, su apellido, su dni y la nota que sacó\n",
    "# Hacer una función que reciba este diccionario, y guarde las notas en un archivo csv, llamados notas.csv\n",
    "notas_parcial = [\n",
    "    {\n",
    "        \"nombre\": \"Juan\",\n",
    "        \"apellido\": \"Pérez\",\n",
    "        \"dni\": \"12345678\",\n",
    "        \"nota\": \"6\"\n",
    "    },\n",
    "    {\n",
    "        \"nombre\": \"María\",\n",
    "        \"apellido\": \"González\",\n",
    "        \"dni\": \"87654321\",\n",
    "        \"nota\": \"7\"\n",
    "    },\n",
    "    {\n",
    "        \"nombre\": \"Pedro\",\n",
    "        \"apellido\": \"Gómez\",\n",
    "        \"dni\": \"45678912\",\n",
    "        \"nota\": \"3\"\n",
    "    },\n",
    "    {\n",
    "        \"nombre\": \"Ana\",\n",
    "        \"apellido\": \"Martínez\",\n",
    "        \"dni\": \"98765432\",\n",
    "        \"nota\": \"2\"\n",
    "    },\n",
    "    {\n",
    "        \"nombre\": \"Lucía\",\n",
    "        \"apellido\": \"Rodríguez\",\n",
    "        \"dni\": \"34567891\",\n",
    "        \"nota\": \"8\"\n",
    "    }\n",
    "]\n",
    "\n",
    "def guardar_notas(notas):\n",
    "    archivo = open(\"./archivos/ej6/notas.csv\", \"w\")\n",
    "    for nota in notas:\n",
    "        archivo.write(f\"{nota['nombre']};{nota['apellido']};{nota['dni']};{nota['nota']}\\n\")\n",
    "    archivo.close()\n",
    "\n",
    "guardar_notas(notas_parcial)\n",
    "\n",
    "# Tiempo después de guardar las notas, la profesora quiso saber la cantidad de alumnos que aprobaron.\n",
    "# Hacer una función que lea el archivo creado en el ejercicio anterior, y devolver la cantidad de alumnos aprobados (su nota es mayor a 4).\n",
    "def obtener_aprobados():\n",
    "    archivo = open(\"./archivos/ej6/notas.csv\", \"r\")\n",
    "    aprobados = 0\n",
    "    for line in archivo.readlines():\n",
    "        nota = int(line.strip().split(\";\")[3])\n",
    "        if nota > 4:\n",
    "            aprobados += 1\n",
    "    archivo.close()\n",
    "    return aprobados\n",
    "\n",
    "print(f\"La cantidad de alumnos aprobados es: {obtener_aprobados()}\")"
   ]
  },
  {
   "cell_type": "code",
   "execution_count": 23,
   "metadata": {},
   "outputs": [],
   "source": [
    "# En un cine tienen dos archivos .txt, uno con salas y otro con nombres de películas. Se sabe que en la sala de una fila del archivo\n",
    "# se va a transmitir la película de la misma fila del archivo de películas. Se pide leer los dos archivos,\n",
    "# y crear un nuevo archivo csv que tenga el nuevo formato sala;pelicula\n",
    "# Por ejemplo si se tienen los siguientes archivos:\n",
    "# (salas.txt) (peliculas.txt)\n",
    "# D2 Megamente\n",
    "# F1 Rápidos y furiosos\n",
    "# E4 El padrino\n",
    "# El nuevo archivo deberá quedar:\n",
    "# (funciones.csv)\n",
    "# D2;Megamente\n",
    "# F1;Rápidos y furiosos\n",
    "# E4;El padrino\n",
    "archivo_salas = open(\"./archivos/ej7/salas.txt\", \"r\")\n",
    "archivo_peliculas = open(\"./archivos/ej7/peliculas.txt\", \"r\")\n",
    "archivo_funciones = open(\"./archivos/ej7/funciones.csv\", \"w\")\n",
    "\n",
    "salas = archivo_salas.readlines()\n",
    "peliculas = archivo_peliculas.readlines()\n",
    "\n",
    "for i in range(len(salas)):\n",
    "    archivo_funciones.write(f\"{salas[i].strip()};{peliculas[i].strip()}\\n\")\n",
    "\n",
    "archivo_salas.close()\n",
    "archivo_peliculas.close()\n",
    "archivo_funciones.close()"
   ]
  },
  {
   "cell_type": "code",
   "execution_count": 21,
   "metadata": {},
   "outputs": [],
   "source": [
    "# Santi le fue mostrando colores a sus amigos y cada amigo le fue diciendo si le gusta o no. Guardó cada respuesta en un .csv de la siguiente manera:\n",
    "# nombre;color;le gusta, pero se dió cuenta que no es una forma muy práctica de guardarlo, así que lo quiere cambiar.\n",
    "# Hacer un programa que lea el archivo y lo\n",
    "# transforme en un archivo .txt. Es decir que si se tiene un archivo csv de la siguiente forma:\n",
    "# Agus;verde;si\n",
    "# Tomi; violeta;no\n",
    "# Manu;marrón;no\n",
    "# El archivo .txt tiene que quedar así:\n",
    "# A Agus sí le gusta el verde\n",
    "# A Tomi no le gusta el violeta\n",
    "# A Manu no le gusta el marrón\n",
    "archivo_csv = open(\"./archivos/ej8/colores.csv\", \"r\")\n",
    "archivo_txt = open(\"./archivos/ej8/colores.txt\", \"w\")\n",
    "\n",
    "for line in archivo_csv.readlines():\n",
    "    nombre, color, gusta = line.strip().split(\";\")\n",
    "    archivo_txt.write(f\"A {nombre} {gusta} le gusta el {color}\\n\")\n",
    "\n",
    "archivo_csv.close()\n",
    "archivo_txt.close()"
   ]
  }
 ],
 "metadata": {
  "kernelspec": {
   "display_name": "Python 3",
   "language": "python",
   "name": "python3"
  },
  "language_info": {
   "codemirror_mode": {
    "name": "ipython",
    "version": 3
   },
   "file_extension": ".py",
   "mimetype": "text/x-python",
   "name": "python",
   "nbconvert_exporter": "python",
   "pygments_lexer": "ipython3",
   "version": "3.12.3"
  }
 },
 "nbformat": 4,
 "nbformat_minor": 2
}
