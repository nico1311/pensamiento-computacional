{
 "cells": [
  {
   "cell_type": "code",
   "execution_count": 2,
   "metadata": {},
   "outputs": [
    {
     "name": "stdout",
     "output_type": "stream",
     "text": [
      "¡Hola Mundo!\n"
     ]
    }
   ],
   "source": [
    "# Primer programa: Imprimir por pantalla \"¡Hola mundo!\"\n",
    "print(\"¡Hola Mundo!\")"
   ]
  },
  {
   "cell_type": "code",
   "execution_count": 1,
   "metadata": {},
   "outputs": [
    {
     "name": "stdout",
     "output_type": "stream",
     "text": [
      "7\n"
     ]
    }
   ],
   "source": [
    "# Crear un programa que guarde un número en una variable, y luego lo imprima por pantalla.\n",
    "numero = 7\n",
    "print(numero)"
   ]
  },
  {
   "cell_type": "code",
   "execution_count": 2,
   "metadata": {},
   "outputs": [
    {
     "name": "stdout",
     "output_type": "stream",
     "text": [
      "8\n"
     ]
    }
   ],
   "source": [
    "# Guardar dos números en dos variables, y luego sumarlos. El resultado se tendrá que guardar en otra variable e imprimirlo por pantalla.\n",
    "num1 = 5\n",
    "num2 = 3\n",
    "suma = num1 + num2\n",
    "\n",
    "print(suma)"
   ]
  },
  {
   "cell_type": "code",
   "execution_count": 5,
   "metadata": {},
   "outputs": [
    {
     "name": "stdout",
     "output_type": "stream",
     "text": [
      "Suma: 8\n",
      "Resta: 2\n",
      "Producto 15\n",
      "Divisón: 1.6666666666666667\n"
     ]
    }
   ],
   "source": [
    "# Modificar el programa anterior con otras operaciones aritméticas.\n",
    "num1 = 5\n",
    "num2 = 3\n",
    "suma = num1 + num2\n",
    "resta = num1 - num2\n",
    "producto = num1 * num2\n",
    "division = num1 / num2\n",
    "\n",
    "print(\"Suma:\", suma)\n",
    "print(\"Resta:\", resta)\n",
    "print(\"Producto\", producto)\n",
    "print(\"Divisón:\", division)"
   ]
  }
 ],
 "metadata": {
  "kernelspec": {
   "display_name": "Python 3",
   "language": "python",
   "name": "python3"
  },
  "language_info": {
   "codemirror_mode": {
    "name": "ipython",
    "version": 3
   },
   "file_extension": ".py",
   "mimetype": "text/x-python",
   "name": "python",
   "nbconvert_exporter": "python",
   "pygments_lexer": "ipython3",
   "version": "3.12.2"
  }
 },
 "nbformat": 4,
 "nbformat_minor": 2
}
