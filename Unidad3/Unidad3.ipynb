{
 "cells": [
  {
   "cell_type": "markdown",
   "metadata": {},
   "source": [
    "### Expresiones"
   ]
  },
  {
   "cell_type": "code",
   "execution_count": 5,
   "metadata": {},
   "outputs": [
    {
     "name": "stdout",
     "output_type": "stream",
     "text": [
      "True\n"
     ]
    }
   ],
   "source": [
    "# Escribir la expresión para saber si un número es más grande que otro. Guardarla en una variable de tipo bool e imprimirla por pantalla para ver su valor.\n",
    "es_mayor = 5 > 3\n",
    "print(es_mayor)"
   ]
  },
  {
   "cell_type": "code",
   "execution_count": 6,
   "metadata": {},
   "outputs": [
    {
     "name": "stdout",
     "output_type": "stream",
     "text": [
      "True\n"
     ]
    }
   ],
   "source": [
    "# Repetir el punto anterior pero con la expresión que determina que una letra NO es vocal.\n",
    "no_es_vocal = \"z\" not in \"aeiou\"\n",
    "print(no_es_vocal)"
   ]
  },
  {
   "cell_type": "code",
   "execution_count": 8,
   "metadata": {},
   "outputs": [
    {
     "name": "stdout",
     "output_type": "stream",
     "text": [
      "True\n"
     ]
    }
   ],
   "source": [
    "# Repetir pero para la expresión que permite saber si un número es par y menor a 10.\n",
    "num = 8\n",
    "es_par_y_menor_a_10 = num % 2 == 0 and num < 10\n",
    "print(es_par_y_menor_a_10)"
   ]
  },
  {
   "cell_type": "markdown",
   "metadata": {},
   "source": [
    "### Estructuras de control condicionales"
   ]
  },
  {
   "cell_type": "code",
   "execution_count": 9,
   "metadata": {},
   "outputs": [
    {
     "name": "stdout",
     "output_type": "stream",
     "text": [
      "5\n",
      "5\n"
     ]
    }
   ],
   "source": [
    "# Crear una función que dado un número, devuelva su valor absoluto. El valor absoluto de un número es el mismo número sin considerar el signo.\n",
    "def valor_absoluto(num):\n",
    "    if num < 0:\n",
    "        return -num\n",
    "    return num\n",
    "\n",
    "print(valor_absoluto(-5))\n",
    "print(valor_absoluto(5))"
   ]
  },
  {
   "cell_type": "code",
   "execution_count": 3,
   "metadata": {},
   "outputs": [
    {
     "name": "stdout",
     "output_type": "stream",
     "text": [
      "Mi jugada es Papel\n"
     ]
    }
   ],
   "source": [
    "# Crear el programa al que sea imposible ganarle en el juego de “Piedra, papel o tijera”. Cada elemento va a ser representado con una letra: R para piedra, P para papel y T para tijera.\n",
    "def jugada(letra):\n",
    "    if letra == \"R\":\n",
    "        return \"Papel\"\n",
    "    elif letra == \"P\":\n",
    "        return \"Tijera\"\n",
    "    else:\n",
    "        return \"Piedra\"\n",
    "\n",
    "entrada = input(\"¡Juguemos a piedra, papel o tijera! Ingresa R para piedra, P para papel o T para tijera:\").upper()\n",
    "if entrada in [\"R\", \"P\", \"T\"]:\n",
    "    resultado = jugada(entrada)\n",
    "    print(\"Mi jugada es\", resultado)\n",
    "else:\n",
    "    print(\"No vale\")"
   ]
  },
  {
   "cell_type": "code",
   "execution_count": 5,
   "metadata": {},
   "outputs": [
    {
     "name": "stdout",
     "output_type": "stream",
     "text": [
      "Llega a 100\n"
     ]
    }
   ],
   "source": [
    "# Escribir código que dado dos enteros, determine si la suma de ambos da menos que 100. Si la suma de ambos es menor a 100,\n",
    "# calcular cuánto falta para llegar a 100 y mostrar por pantalla un mensaje con ese valor. Si la suma es mayor a 100, mostrar un mensaje diciendo “Llega a 100”.\n",
    "n1 = int(input(\"Ingrese un número: \"))\n",
    "n2 = int(input(\"Ingrese otro número: \"))\n",
    "suma = n1 + n2\n",
    "if suma < 100:\n",
    "    print(\"Faltan\", 100 - suma, \"para llegar a 100\")\n",
    "else:\n",
    "    print(\"Llega a 100\")"
   ]
  },
  {
   "cell_type": "code",
   "execution_count": 6,
   "metadata": {},
   "outputs": [
    {
     "name": "stdout",
     "output_type": "stream",
     "text": [
      "Faltan 1 para llegar a 120\n"
     ]
    }
   ],
   "source": [
    "# Extra: ¿Cómo harían para que el programa quede generalizado para cualquier límite, a elección del usuario, y no solo para 100?\n",
    "limite = int(input(\"Ingrese un límite: \"))\n",
    "n1 = int(input(\"Ingrese un número: \"))\n",
    "n2 = int(input(\"Ingrese otro número: \"))\n",
    "suma = n1 + n2\n",
    "if suma < limite:\n",
    "    print(\"Faltan\", limite - suma, \"para llegar a\", limite)\n",
    "else:\n",
    "    print(\"Llega a\", limite)"
   ]
  },
  {
   "cell_type": "code",
   "execution_count": 1,
   "metadata": {},
   "outputs": [
    {
     "name": "stdout",
     "output_type": "stream",
     "text": [
      "Error\n",
      "Primavera\n",
      "Otoño\n",
      "Error\n",
      "Verano\n",
      "Invierno\n"
     ]
    }
   ],
   "source": [
    "# Crear una función que dada una letra, imprima por pantalla la estación del año que representa (es decir, si se ingresa V se mostrará por pantalla el mensaje “Verano”).\n",
    "# En caso de no representar a ninguna estación mostrar un mensaje que diga “error”.\n",
    "# Probar la función creada llamándola con A, P, O, B, V e I.\n",
    "def estacion(letra):\n",
    "    if letra == \"V\":\n",
    "        print(\"Verano\")\n",
    "    elif letra == \"O\":\n",
    "        print(\"Otoño\")\n",
    "    elif letra == \"I\":\n",
    "        print(\"Invierno\")\n",
    "    elif letra == \"P\":\n",
    "        print(\"Primavera\")\n",
    "    else:\n",
    "        print(\"Error\")\n",
    "\n",
    "estacion(\"A\")\n",
    "estacion(\"P\")\n",
    "estacion(\"O\")\n",
    "estacion(\"B\")\n",
    "estacion(\"V\")\n",
    "estacion(\"I\")"
   ]
  },
  {
   "cell_type": "markdown",
   "metadata": {},
   "source": [
    "### Estructuras de control iterativas"
   ]
  },
  {
   "cell_type": "code",
   "execution_count": 4,
   "metadata": {},
   "outputs": [
    {
     "name": "stdout",
     "output_type": "stream",
     "text": [
      "1\n",
      "2\n",
      "3\n",
      "4\n",
      "5\n",
      "6\n",
      "7\n",
      "8\n",
      "9\n",
      "10\n",
      "11\n",
      "12\n",
      "13\n",
      "14\n",
      "15\n"
     ]
    }
   ],
   "source": [
    "# Se quiere hacer un programa para enseñar a unos niños a contar.\n",
    "# Crear una función que reciba un número entero e imprima por pantalla los números del 1 hasta ese número con la estructura de control iterativa for.\n",
    "def contar(n):\n",
    "    for i in range(1, n + 1):\n",
    "        print(i)\n",
    "\n",
    "contar(15)"
   ]
  },
  {
   "cell_type": "code",
   "execution_count": 6,
   "metadata": {},
   "outputs": [
    {
     "name": "stdout",
     "output_type": "stream",
     "text": [
      "7 x 1 = 7\n",
      "7 x 2 = 14\n",
      "7 x 3 = 21\n",
      "7 x 4 = 28\n",
      "7 x 5 = 35\n",
      "7 x 6 = 42\n",
      "7 x 7 = 49\n",
      "7 x 8 = 56\n",
      "7 x 9 = 63\n",
      "7 x 10 = 70\n"
     ]
    }
   ],
   "source": [
    "# Se quiere mejorar el programa para enseñar matemáticas pensado en el ejercicio anterior.\n",
    "# Ahora se necesita una funcionalidad que permita a los niños aprender las tablas. Crear una función que reciba un número entero e imprima por pantalla la tabla de ese número del 1 al 10.\n",
    "def tabla(n):\n",
    "  for i in range(1, 11):\n",
    "    print(f\"{n} x {i} = {n * i}\")\n",
    "\n",
    "tabla(7)"
   ]
  },
  {
   "cell_type": "code",
   "execution_count": 8,
   "metadata": {},
   "outputs": [
    {
     "name": "stdout",
     "output_type": "stream",
     "text": [
      "Que los cumplas feliz\n",
      "Que los cumplas feliz\n",
      "Que los cumplas feliz\n",
      "Que los cumplas feliz\n",
      "Que los cumplas feliz\n"
     ]
    }
   ],
   "source": [
    "# Crear una función que simule un cumpleaños: que dado un entero imprima “Que los cumplas feliz” esa cantidad de veces.\n",
    "def que_los_cumplas(cant):\n",
    "  for i in range(1, cant + 1):\n",
    "    print(\"Que los cumplas feliz\")\n",
    "\n",
    "que_los_cumplas(5)"
   ]
  },
  {
   "cell_type": "code",
   "execution_count": 12,
   "metadata": {},
   "outputs": [
    {
     "name": "stdout",
     "output_type": "stream",
     "text": [
      "El importe a pagar es de $120.\n",
      "El importe a pagar es de $90.\n",
      "El importe a pagar es de $30.\n",
      "El importe a pagar es de $5.\n",
      "Cobro finalizado.\n"
     ]
    }
   ],
   "source": [
    "# En un almacén están buscando la forma de hacer los cobros más automáticamente. Para esto, se nos pide crear una función que reciba un número entero que representa\n",
    "# lo que hay que cobrar, le pida al usuario ingresar un monto, y se vaya mostrando por pantalla cuánto falta para completar el pago.\n",
    "# Repetir este proceso hasta que la deuda sea 0 o menor.\n",
    "def cobrar(monto):\n",
    "  a_pagar = monto\n",
    "  while a_pagar > 0:\n",
    "    print(f\"El importe a pagar es de ${a_pagar}.\")\n",
    "    pago = int(input(\"Por favor ingrese un monto: \"))\n",
    "    a_pagar = a_pagar - pago\n",
    "  print(\"Cobro finalizado.\")\n",
    "\n",
    "cobrar(120)"
   ]
  },
  {
   "cell_type": "markdown",
   "metadata": {},
   "source": [
    "### Estructuras de control condicionales e iterativas"
   ]
  },
  {
   "cell_type": "code",
   "execution_count": 14,
   "metadata": {},
   "outputs": [
    {
     "name": "stdout",
     "output_type": "stream",
     "text": [
      "El número 1 es impar.\n",
      "El número 2 es par.\n",
      "El número 3 es impar.\n",
      "El número 4 es par.\n",
      "El número 5 es impar.\n",
      "El número 6 es par.\n",
      "El número 7 es impar.\n",
      "El número 8 es par.\n",
      "El número 9 es impar.\n",
      "El número 10 es par.\n",
      "El número 11 es impar.\n",
      "El número 12 es par.\n",
      "El número 13 es impar.\n",
      "El número 14 es par.\n",
      "El número 15 es impar.\n",
      "El número 16 es par.\n",
      "El número 17 es impar.\n",
      "El número 18 es par.\n",
      "El número 19 es impar.\n",
      "El número 20 es par.\n"
     ]
    }
   ],
   "source": [
    "# Escribir código que recorra los números del 1 al 20 y determine para cada uno si es par o impar, imprimiendo un mensaje por pantalla en cada caso.\n",
    "for i in range(1, 21):\n",
    "  if i % 2 == 0:\n",
    "    print(f\"El número {i} es par.\")\n",
    "  else:\n",
    "    print(f\"El número {i} es impar.\")"
   ]
  },
  {
   "cell_type": "code",
   "execution_count": 16,
   "metadata": {},
   "outputs": [
    {
     "name": "stdout",
     "output_type": "stream",
     "text": [
      "Por favor ingrese solamente fichas reales (F)\n",
      "¡A jugar!\n"
     ]
    }
   ],
   "source": [
    "# Se tiene una máquina de sacar juguetes que funciona cuando se ingresa una determinada cantidad de fichas, y se quiere hacer una función que imite ese comportamiento.\n",
    "# Hacer una función que reciba un número que represente el precio de la máquina, e imprima por pantalla “Ingresá x fichas para comenzar”\n",
    "# hasta que se hayan ingresado esa cantidad de letras F (que representan una ficha), y luego “¡A jugar!” cuando se hayan ingresado todas las fichas necesarias. \n",
    "def pedir_fichas(cant):\n",
    "  restantes = cant\n",
    "  while restantes > 0:\n",
    "    entrada = input(f\"Ingresá {restantes} fichas (F) para comenzar: \").upper()\n",
    "    if entrada != \"F\":\n",
    "      print(\"Por favor ingrese solamente fichas reales (F)\")\n",
    "      continue\n",
    "    restantes -= 1\n",
    "  print(\"¡A jugar!\")\n",
    "\n",
    "pedir_fichas(3)"
   ]
  },
  {
   "cell_type": "code",
   "execution_count": 19,
   "metadata": {},
   "outputs": [
    {
     "name": "stdout",
     "output_type": "stream",
     "text": [
      "El número 2 es primo.\n",
      "El número 3 es primo.\n",
      "El número 5 es primo.\n",
      "El número 7 es primo.\n",
      "El número 11 es primo.\n",
      "El número 13 es primo.\n",
      "El número 17 es primo.\n",
      "El número 19 es primo.\n"
     ]
    }
   ],
   "source": [
    "# Crear una función que reciba un número entero e imprima los números primos entre 0 y el número ingresado.\n",
    "def imprimir_primos(num):\n",
    "  for i in range(0, num + 1):\n",
    "    divisores = 0\n",
    "    for j in range(1, i + 1):\n",
    "      if i % j == 0:\n",
    "        divisores += 1\n",
    "    if divisores == 2:\n",
    "      print(f\"El número {i} es primo.\")\n",
    "\n",
    "imprimir_primos(20)"
   ]
  }
 ],
 "metadata": {
  "kernelspec": {
   "display_name": "Python 3",
   "language": "python",
   "name": "python3"
  },
  "language_info": {
   "codemirror_mode": {
    "name": "ipython",
    "version": 3
   },
   "file_extension": ".py",
   "mimetype": "text/x-python",
   "name": "python",
   "nbconvert_exporter": "python",
   "pygments_lexer": "ipython3",
   "version": "3.12.2"
  }
 },
 "nbformat": 4,
 "nbformat_minor": 2
}
