{
 "cells": [
  {
   "cell_type": "code",
   "execution_count": 7,
   "metadata": {},
   "outputs": [
    {
     "name": "stdout",
     "output_type": "stream",
     "text": [
      "El número ingresado es: 50\n"
     ]
    }
   ],
   "source": [
    "# Crear un programa que le solicite al usuario un entero y lo imprima por pantalla.\n",
    "numero = int(input(\"Ingrese un número entero: \"))\n",
    "print(\"El número ingresado es:\", numero)"
   ]
  },
  {
   "cell_type": "code",
   "execution_count": 8,
   "metadata": {},
   "outputs": [
    {
     "name": "stdout",
     "output_type": "stream",
     "text": [
      "La suma es: 15\n",
      "La resta es: 5\n",
      "La multiplicación es: 50\n",
      "La división entera es: 2\n",
      "El resto de la división es: 0\n"
     ]
    }
   ],
   "source": [
    "# Crear un programa que le solicite al usuario dos números enteros y luego imprima por pantalla: la suma, la resta, la multiplicación, la división entera, y el resto.\n",
    "num1 = int(input(\"Ingrese un número entero: \"))\n",
    "num2 = int(input(\"Ingrese otro número entero: \"))\n",
    "suma = num1 + num2\n",
    "resta = num1 - num2\n",
    "producto = num1 * num2\n",
    "division = num1 // num2\n",
    "resto = num1 % num2\n",
    "\n",
    "print(\"La suma es:\", suma)\n",
    "print(\"La resta es:\", resta)\n",
    "print(\"La multiplicación es:\", producto)\n",
    "print(\"La división entera es:\", division)\n",
    "print(\"El resto de la división es:\", resto)"
   ]
  },
  {
   "cell_type": "code",
   "execution_count": 38,
   "metadata": {},
   "outputs": [
    {
     "name": "stdout",
     "output_type": "stream",
     "text": [
      "El número es par\n"
     ]
    }
   ],
   "source": [
    "# Crear un programa que le solicite al usuario un entero y determine si es par, mostrando por pantalla un mensaje que indique el resultado.\n",
    "numero = int(input(\"Ingrese un número entero: \"))\n",
    "if numero % 2 == 0:\n",
    "  print(\"El número es par\")\n",
    "else:\n",
    "  print(\"El número no es par\")"
   ]
  },
  {
   "cell_type": "code",
   "execution_count": 19,
   "metadata": {},
   "outputs": [
    {
     "name": "stdout",
     "output_type": "stream",
     "text": [
      "En 2008 tenías 7 años.\n"
     ]
    }
   ],
   "source": [
    "# Escribir un programa que le pida a un usuario su año de nacimiento y otro año, y le diga qué edad tenía el usuario en el año ingresado.\n",
    "anio_nacimiento = int(input(\"Ingrese su año de nacimiento: \"))\n",
    "otro_anio = int(input(\"Ingrese otro año: \"))\n",
    "resultado = otro_anio - anio_nacimiento\n",
    "print(f\"En {otro_anio} tenías {resultado} años.\")"
   ]
  },
  {
   "cell_type": "code",
   "execution_count": 21,
   "metadata": {},
   "outputs": [
    {
     "name": "stdout",
     "output_type": "stream",
     "text": [
      "El promedio es: 7.0\n"
     ]
    }
   ],
   "source": [
    "# Crear un programa que le solicite al usuario 5 enteros y muestre por pantalla el promedio de ellos.\n",
    "acum = 0 # Variable para acumular los enteros\n",
    "acum += int(input(\"Ingrese el primer número: \"))\n",
    "acum += int(input(\"Ingrese el segundo número: \"))\n",
    "acum += int(input(\"Ingrese el tercer número: \"))\n",
    "acum += int(input(\"Ingrese el cuarto número: \"))\n",
    "acum += int(input(\"Ingrese el quinto número: \"))\n",
    "promedio = acum / 5\n",
    "print(\"El promedio es:\", promedio)"
   ]
  },
  {
   "cell_type": "code",
   "execution_count": 23,
   "metadata": {},
   "outputs": [
    {
     "name": "stdout",
     "output_type": "stream",
     "text": [
      "El anterior de 13 es 12 y el siguiente es 14\n",
      "El anterior de 71 es 70 y el siguiente es 72\n"
     ]
    }
   ],
   "source": [
    "# Crear una función que reciba un número y muestre el anterior y el siguiente.\n",
    "def anterior_siguiente(numero):\n",
    "  print(f\"El anterior de {numero} es {numero - 1} y el siguiente es {numero +1}\")\n",
    "\n",
    "anterior_siguiente(13)\n",
    "anterior_siguiente(71)"
   ]
  },
  {
   "cell_type": "code",
   "execution_count": 24,
   "metadata": {},
   "outputs": [
    {
     "name": "stdout",
     "output_type": "stream",
     "text": [
      "Hola 15\n"
     ]
    }
   ],
   "source": [
    "# Crear una función que una un string y un entero, ambos dentro de un string.\n",
    "def unir_string_entero(string, entero):\n",
    "  print(f\"{string} {entero}\")\n",
    "\n",
    "unir_string_entero(\"Hola\", 15)"
   ]
  },
  {
   "cell_type": "code",
   "execution_count": 29,
   "metadata": {},
   "outputs": [
    {
     "name": "stdout",
     "output_type": "stream",
     "text": [
      "El cociente es 4 y el resto es 1\n"
     ]
    }
   ],
   "source": [
    "# Crear una función que reciba un entero y que retorne (devuelva) el resto y el cociente.\n",
    "def dividir(dividendo, divisor):\n",
    "  cociente = dividendo // divisor\n",
    "  resto = dividendo % divisor\n",
    "  return resto, cociente\n",
    "\n",
    "resto, cociente = dividir(21, 5)\n",
    "print(f\"El cociente es {cociente} y el resto es {resto}\")"
   ]
  },
  {
   "cell_type": "code",
   "execution_count": 30,
   "metadata": {},
   "outputs": [
    {
     "name": "stdout",
     "output_type": "stream",
     "text": [
      "Pérez, Juan\n"
     ]
    }
   ],
   "source": [
    "# Pedirle nombre y apellido por separado e imprimir “Apellido, Nombre”.\n",
    "nombre = input(\"Ingrese su nombre: \")\n",
    "apellido = input(\"Ingrese su apellido: \")\n",
    "print(f\"{apellido}, {nombre}\")"
   ]
  },
  {
   "cell_type": "code",
   "execution_count": 35,
   "metadata": {},
   "outputs": [
    {
     "name": "stdout",
     "output_type": "stream",
     "text": [
      "9\n"
     ]
    }
   ],
   "source": [
    "# Obtener una palabra e imprimir la cantidad de letras.\n",
    "palabra = input(\"Ingrese una palabra: \")\n",
    "print(len(palabra))"
   ]
  },
  {
   "cell_type": "code",
   "execution_count": 34,
   "metadata": {},
   "outputs": [
    {
     "name": "stdout",
     "output_type": "stream",
     "text": [
      "Compu\n"
     ]
    }
   ],
   "source": [
    "# Obtener una palabra e imprimir los primeros 5 caracteres (pista: slicear la palabra)\n",
    "palabra = input(\"Ingrese una palabra: \")\n",
    "print(palabra[:5])"
   ]
  },
  {
   "cell_type": "code",
   "execution_count": 37,
   "metadata": {},
   "outputs": [
    {
     "name": "stdout",
     "output_type": "stream",
     "text": [
      "rgentin\n"
     ]
    }
   ],
   "source": [
    "# Obtener una palabra, borrarle todas las ‘a’ e imprimirla por pantalla.\n",
    "palabra = input(\"Ingrese una palabra: \")\n",
    "print(palabra.replace(\"a\", \"\"))"
   ]
  }
 ],
 "metadata": {
  "kernelspec": {
   "display_name": "Python 3",
   "language": "python",
   "name": "python3"
  },
  "language_info": {
   "codemirror_mode": {
    "name": "ipython",
    "version": 3
   },
   "file_extension": ".py",
   "mimetype": "text/x-python",
   "name": "python",
   "nbconvert_exporter": "python",
   "pygments_lexer": "ipython3",
   "version": "3.12.2"
  }
 },
 "nbformat": 4,
 "nbformat_minor": 2
}
