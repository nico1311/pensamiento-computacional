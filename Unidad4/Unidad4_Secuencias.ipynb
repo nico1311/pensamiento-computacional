{
 "cells": [
  {
   "cell_type": "markdown",
   "metadata": {},
   "source": [
    "### Familiarización con secuencias"
   ]
  },
  {
   "cell_type": "code",
   "execution_count": 1,
   "metadata": {},
   "outputs": [
    {
     "name": "stdout",
     "output_type": "stream",
     "text": [
      "5\n"
     ]
    }
   ],
   "source": [
    "# Crear una lista con los números del 1 al 10. Acceder con el índice a la posición que contiene el número 5, e imprimirlo por pantalla.\n",
    "# Recordar que el índice de las listas empiezan con 0.\n",
    "lista = [1, 2, 3, 4, 5, 6, 7, 8, 9, 10]\n",
    "print(lista[4])"
   ]
  },
  {
   "cell_type": "code",
   "execution_count": 2,
   "metadata": {},
   "outputs": [
    {
     "name": "stdout",
     "output_type": "stream",
     "text": [
      "Longitud: 10\n"
     ]
    }
   ],
   "source": [
    "# Con la lista del punto anterior, usar la función len() para averiguar su longitud, e imprimirla.\n",
    "longitud = len(lista)\n",
    "print(f\"Longitud: {longitud}\")"
   ]
  },
  {
   "cell_type": "code",
   "execution_count": 5,
   "metadata": {},
   "outputs": [
    {
     "name": "stdout",
     "output_type": "stream",
     "text": [
      "Máximo: 27\n",
      "Mínimo: 2\n"
     ]
    }
   ],
   "source": [
    "# Crear una secuencia con números distintos, y luego devolver el elemento máximo y el mínimo.\n",
    "numeros = [2, 8, 9, 3, 27, 12]\n",
    "print(f\"Máximo: {max(numeros)}\")\n",
    "print(f\"Mínimo: {min(numeros)}\")"
   ]
  },
  {
   "cell_type": "code",
   "execution_count": 6,
   "metadata": {},
   "outputs": [
    {
     "name": "stdout",
     "output_type": "stream",
     "text": [
      "[2, 3, 8, 9, 12, 27]\n"
     ]
    }
   ],
   "source": [
    "# Ordenar la secuencia del ejercicio anterior, e imprimirla por pantalla.\n",
    "numeros.sort()\n",
    "print(numeros)"
   ]
  },
  {
   "cell_type": "code",
   "execution_count": 7,
   "metadata": {},
   "outputs": [
    {
     "name": "stdout",
     "output_type": "stream",
     "text": [
      "22\n"
     ]
    }
   ],
   "source": [
    "# Crear una tupla que guarde tu nombre y tu edad. Luego, imprimir por pantalla tu edad, accediendo al elemento de la tupla que corresponda.\n",
    "tupla = ('Nicolás', 22)\n",
    "print(tupla[1])"
   ]
  },
  {
   "cell_type": "code",
   "execution_count": 18,
   "metadata": {},
   "outputs": [
    {
     "name": "stdout",
     "output_type": "stream",
     "text": [
      "['Florencia', 'Carlos', 'Camila', 'Nicolás', 'Juan']\n",
      "Nicolás\n",
      "Florencia\n",
      "Carlos\n",
      "Camila\n",
      "Nicolás\n",
      "Juan\n",
      "['Florencia', 'Carlos', 'Camila', 'Nicolás', 'Juan', 'Florencia', 'Carlos', 'Camila', 'Nicolás', 'Juan', 'Florencia', 'Carlos', 'Camila', 'Nicolás', 'Juan']\n"
     ]
    }
   ],
   "source": [
    "# Hacer una lista con 5 nombres, y realizar las siguientes actividades con la misma:\n",
    "nombres = [\"Florencia\", \"Carlos\", \"Camila\", \"Nicolás\", \"Martín\"]\n",
    "\n",
    "# a) Cambiar el último elemento de la lista y cambiar el último nombre por “Juan”. Olvidándonos de que sabemos que tiene 5 elementos,\n",
    "# ¿Cómo podría saber cuál es el último elemento si no sé la longitud?\n",
    "nombres[-1] = \"Juan\" # También se puede: nombres[len(nombres) - 1] = \"Juan\"\n",
    "print(nombres)\n",
    "\n",
    "# b) Devolver el nombre que esté a dos posiciones del final. ¿Cómo hacemos para que nos funcione para cualquier lista y no solo para la que tenga 5 elementos?\n",
    "print(nombres[-2])\n",
    "\n",
    "# c) Recorrer la lista e imprimir cada nombre por pantalla\n",
    "for nombre in nombres:\n",
    "  print(nombre)\n",
    "\n",
    "# d) Imprimir por pantalla la lista con 3 repeticiones, usar el operador repetición (*).\n",
    "print(nombres * 3)"
   ]
  },
  {
   "cell_type": "code",
   "execution_count": 19,
   "metadata": {},
   "outputs": [
    {
     "name": "stdout",
     "output_type": "stream",
     "text": [
      "[('Florencia', 22), ('Carlos', 23), ('Camila', 21)]\n"
     ]
    }
   ],
   "source": [
    "# Se pide ahora crear 3 tuplas como las del ejercicio 5, con un nombre y una edad. A continuación, guardarlas en una lista.\n",
    "# Pensar, ¿De que nos servirá guardar las tuplas en una lista en vez de tenerlas por separado?\n",
    "tupla1 = ('Florencia', 22)\n",
    "tupla2 = ('Carlos', 23)\n",
    "tupla3 = ('Camila', 21)\n",
    "tuplas = [tupla1, tupla2, tupla3]\n",
    "print(tuplas)"
   ]
  },
  {
   "cell_type": "markdown",
   "metadata": {},
   "source": [
    "### Ejercicios con listas y tuplas"
   ]
  },
  {
   "cell_type": "code",
   "execution_count": 22,
   "metadata": {},
   "outputs": [
    {
     "name": "stdout",
     "output_type": "stream",
     "text": [
      "País: Francia\n",
      "Capital: París\n",
      "Continente: Europa\n",
      "\n",
      "País: Argentina\n",
      "Capital: Buenos Aires\n",
      "Continente: América\n",
      "\n",
      "País: Japón\n",
      "Capital: Tokio\n",
      "Continente: Asia\n",
      "\n",
      "País: Alemania\n",
      "Capital: Berlín\n",
      "Continente: Europa\n",
      "\n",
      "País: Perú\n",
      "Capital: Lima\n",
      "Continente: América\n",
      "\n"
     ]
    }
   ],
   "source": [
    "# Se quiere guardar información de los siguientes países: Francia, Argentina, Japón, Alemania, Perú.\n",
    "# a) Crear una tupla para cada país que contenga su nombre, su capital y el continente donde se encuentra.\n",
    "francia = ('Francia', 'París', 'Europa')\n",
    "argentina = ('Argentina', 'Buenos Aires', 'América')\n",
    "japon = ('Japón', 'Tokio', 'Asia')\n",
    "alemania = ('Alemania', 'Berlín', 'Europa')\n",
    "peru = ('Perú', 'Lima', 'América')\n",
    "\n",
    "# b) Guardar las tuplas en una lista.\n",
    "paises = [francia, argentina, japon, alemania, peru]\n",
    "\n",
    "# c) Hacer una función que reciba por parámetros la lista, e imprima la información de cada país con el siguiente formato:\n",
    "# País: <nombre>\n",
    "# Capital: <capital>\n",
    "# Continente: <continente>\n",
    "def info_paises(lista):\n",
    "  for pais in lista:\n",
    "    print(f\"País: {pais[0]}\")\n",
    "    print(f\"Capital: {pais[1]}\")\n",
    "    print(f\"Continente: {pais[2]}\\n\")\n",
    "\n",
    "info_paises(paises)"
   ]
  },
  {
   "cell_type": "code",
   "execution_count": 23,
   "metadata": {},
   "outputs": [
    {
     "name": "stdout",
     "output_type": "stream",
     "text": [
      "Sherlock Holmes: 2\n",
      "It: 4\n",
      "El principito: 2\n"
     ]
    }
   ],
   "source": [
    "# Una librería tiene un sistema que guarda los nombres de todos los libros que tienen en una lista de la siguiente forma: [“El principito”, “It”, “Sherlock Holmes”...].\n",
    "# Se quiere saber cuántos libros repetidos tienen. Hacer código que imprima para cada título, cuántos ejemplares hay.\n",
    "# Aclaración: No se sabe la cantidad de elementos que tiene la lista, la lista nombrada es solo un ejemplo.\n",
    "libros = [\"El principito\", \"It\", \"Sherlock Holmes\", \"It\", \"It\", \"El principito\", \"It\", \"Sherlock Holmes\"] # Ejemplo\n",
    "for libro in set(libros):\n",
    "  print(f\"{libro}: {libros.count(libro)}\")"
   ]
  },
  {
   "cell_type": "code",
   "execution_count": 24,
   "metadata": {},
   "outputs": [
    {
     "name": "stdout",
     "output_type": "stream",
     "text": [
      "[1, 4, 9, 16, 25, 36, 49, 64, 81, 100]\n"
     ]
    }
   ],
   "source": [
    "# Crear una lista que contenga los números del 1 al 10, luego recorrerla y guardar en otra lista esos números elevados al cuadrado.\n",
    "numeros = list(range(1, 11))\n",
    "cuadrados = []\n",
    "for numero in numeros:\n",
    "  cuadrados.append(numero ** 2)\n",
    "\n",
    "print(cuadrados)"
   ]
  },
  {
   "cell_type": "code",
   "execution_count": 25,
   "metadata": {},
   "outputs": [
    {
     "name": "stdout",
     "output_type": "stream",
     "text": [
      "Cualquier tonto escribe código que una computadora entiende. Los buenos programadores escriben código que los humanos pueden entender\n"
     ]
    }
   ],
   "source": [
    "# Se tiene la siguiente lista de palabras:\n",
    "palabras = [\"entender\", \"pueden\", \"humanos\", \"los\", \"que\", \"código\", \"escriben\", \"programadores\", \"buenos\", \"Los\", \"entiende.\", \"computadora\", \"una\", \"que\", \"código\", \"escribe\", \"tonto\", \"Cualquier\"]\n",
    "\n",
    "# Hacer una función que reciba una lista, y devuelva un string uniendo las palabras desde el final de la lista hasta el principio con un “ ” (espacio) entre cada una,\n",
    "# para formar la frase. (ver funciones de listas y strings).\n",
    "def unir_palabras(lista):\n",
    "  copia = lista.copy()\n",
    "  copia.reverse()\n",
    "  return \" \".join(copia)\n",
    "\n",
    "print(unir_palabras(palabras))"
   ]
  },
  {
   "cell_type": "code",
   "execution_count": 26,
   "metadata": {},
   "outputs": [
    {
     "name": "stdout",
     "output_type": "stream",
     "text": [
      "['Análisis Matemático', 'Álgebra', 'Pensamiento Computacional']\n"
     ]
    }
   ],
   "source": [
    "# Se quiere hacer un sistema en la facultad para que un alumno pueda ir guardando las materias que va haciendo.\n",
    "# Para eso, crear una función que le pregunte al usuario la materia que quiere almacenar, e ir guardando la información en una lista hasta que ingrese una ‘X’.\n",
    "# ¿Qué funciones de listas no permiten insertar en una lista?\n",
    "def guardar_materias():\n",
    "  materias = []\n",
    "  while True:\n",
    "    materia = input(\"Ingrese la materia que quiere guardar (X para salir): \")\n",
    "    if materia == 'X':\n",
    "      break\n",
    "    materias.append(materia)\n",
    "  return materias\n",
    "\n",
    "print(guardar_materias())"
   ]
  },
  {
   "cell_type": "code",
   "execution_count": 29,
   "metadata": {},
   "outputs": [
    {
     "name": "stdout",
     "output_type": "stream",
     "text": [
      "Total a pagar: 180\n",
      "Total a pagar: 310\n"
     ]
    }
   ],
   "source": [
    "# Se tiene un ticket de supermercado que se puede representar como una lista de tuplas (producto, precio).\n",
    "# a) Hacer una función que reciba la lista, calcule y devuelva el total que hay que pagar.\n",
    "def total_a_pagar(ticket):\n",
    "  total = 0\n",
    "  for item in ticket:\n",
    "    total += item[1]\n",
    "  return total\n",
    "\n",
    "ticket = [(\"Leche\", 50), (\"Pan\", 30), (\"Queso\", 100)]\n",
    "print(f\"Total a pagar: {total_a_pagar(ticket)}\")\n",
    "\n",
    "# b) Ahora se tienen dos tickets. Juntar ambos y volver a calcular el total.\n",
    "ticket2 = [(\"Galletitas\", 70), (\"Yogur\", 60)]\n",
    "ticket.extend(ticket2)\n",
    "print(f\"Total a pagar: {total_a_pagar(ticket)}\")"
   ]
  },
  {
   "cell_type": "markdown",
   "metadata": {},
   "source": [
    "### Recursos con Strings"
   ]
  },
  {
   "cell_type": "code",
   "execution_count": 36,
   "metadata": {},
   "outputs": [
    {
     "name": "stdout",
     "output_type": "stream",
     "text": [
      "oauo\n"
     ]
    }
   ],
   "source": [
    "# Hacer una función que reciba un string y que imprima solamente los caracteres que sean vocales.\n",
    "def vocales(cadena):\n",
    "  vocales = \"\"\n",
    "  for letra in cadena:\n",
    "    if letra in \"aeiouAEIOU\":\n",
    "      vocales += letra\n",
    "  print(vocales)\n",
    "\n",
    "vocales(\"Hola Mundo\")"
   ]
  },
  {
   "cell_type": "code",
   "execution_count": 38,
   "metadata": {},
   "outputs": [
    {
     "name": "stdout",
     "output_type": "stream",
     "text": [
      "odnuM aloH\n"
     ]
    }
   ],
   "source": [
    "# Hacer una función que reciba un string y que lo invierta.\n",
    "def invertir(cadena):\n",
    "  return cadena[::-1]\n",
    "\n",
    "print(invertir(\"Hola Mundo\"))"
   ]
  },
  {
   "cell_type": "code",
   "execution_count": 39,
   "metadata": {},
   "outputs": [
    {
     "name": "stdout",
     "output_type": "stream",
     "text": [
      "Campeones del Mundo - \n"
     ]
    }
   ],
   "source": [
    "# Hacer una función que reciba dos strings, un string y un substring, es decir, que el primero contiene al segundo,\n",
    "# se pide devolver el string habiendo eliminado el substring del mismo.\n",
    "# Ejemplo:\n",
    "# string: “Campeones del Mundo - 2022”\n",
    "# substring: “2022”\n",
    "# Una vez llamada a la función el string nos debería quedar “Campeones del Mundo - ”, notar que solo\n",
    "# borra el año, el espacio no.\n",
    "def eliminar_substring(string, substring):\n",
    "  return string.replace(substring, \"\")\n",
    "\n",
    "print(eliminar_substring(\"Campeones del Mundo - 2022\", \"2022\"))"
   ]
  },
  {
   "cell_type": "markdown",
   "metadata": {},
   "source": [
    "### Recursos con listas"
   ]
  },
  {
   "cell_type": "code",
   "execution_count": 2,
   "metadata": {},
   "outputs": [
    {
     "name": "stdout",
     "output_type": "stream",
     "text": [
      "Lista de ingredientes: Queso, Tomate, Orégano, Huevo\n"
     ]
    }
   ],
   "source": [
    "# Un chef está armando una lista de supermercado con todos los ingredientes que hay que comprar. Sólo quiere agregar un ingrediente a la lista si no lo escribió antes,\n",
    "# así no tiene repetidos. Hacer un programa que inserte un nuevo elemento en una lista de strings, solamente si el elemento que se desea insertar no se encuentra en la lista.\n",
    "# La lista de ingredientes la podemos pensar como una lista de strings.\n",
    "ingredientes = []\n",
    "while True:\n",
    "  entrada = input(\"Ingrediente a agregar (X para salir): \")\n",
    "  if entrada.upper() == 'X':\n",
    "    break\n",
    "  if entrada in ingredientes:\n",
    "    continue\n",
    "  ingredientes.append(entrada)\n",
    "print(f\"Lista de ingredientes: {\", \".join(ingredientes)}\")"
   ]
  },
  {
   "cell_type": "code",
   "execution_count": 40,
   "metadata": {},
   "outputs": [
    {
     "name": "stdout",
     "output_type": "stream",
     "text": [
      "[1, 2, 3, 4, 5, 6, 8]\n",
      "[1, 2, 3, 4, 5, 6, 8]\n"
     ]
    }
   ],
   "source": [
    "# Agustina está jugando a las cartas con sus amigos. A ella le gusta tener las cartas de su mano bien ordenadas.\n",
    "# Esto significa que cada vez que tiene que agarrar una nueva carta, la quiere agregar a su mano en el lugar indicado para no romper el orden.\n",
    "# Si se tiene una lista de enteros ordenadas de mayor a menor. Hacer una función que según esta lista inserte un nuevo entero, manteniendo el orden.\n",
    "# Podemos pensar la lista de cartas como números enteros.\n",
    "cartas1 = [1, 4, 6, 8]\n",
    "cartas2 = [1, 4, 6, 8]\n",
    "\n",
    "# Versión usando sort\n",
    "def agregar_carta(cartas, nueva_carta):\n",
    "  cartas.append(nueva_carta)\n",
    "  cartas.sort()\n",
    "\n",
    "# Versión sin usar sort\n",
    "def agregar_carta_v2(cartas, nueva_carta):\n",
    "  indice = 0\n",
    "  for carta in cartas:\n",
    "    if nueva_carta < carta:\n",
    "      break\n",
    "    indice += 1\n",
    "  if indice == len(cartas):\n",
    "    cartas.append(nueva_carta)\n",
    "  else:\n",
    "    cartas.insert(indice, nueva_carta)\n",
    "\n",
    "agregar_carta(cartas1, 5)\n",
    "agregar_carta(cartas1, 3)\n",
    "agregar_carta(cartas1, 2)\n",
    "print(cartas1)\n",
    "\n",
    "agregar_carta_v2(cartas2, 5)\n",
    "agregar_carta_v2(cartas2, 3)\n",
    "agregar_carta_v2(cartas2, 2)\n",
    "print(cartas2)\n"
   ]
  },
  {
   "cell_type": "code",
   "execution_count": 42,
   "metadata": {},
   "outputs": [
    {
     "name": "stdout",
     "output_type": "stream",
     "text": [
      "Gustos a pedir: carne, jamón y queso, verdura, choclo\n"
     ]
    }
   ],
   "source": [
    "# Santiago armó una lista con el pedido de empanadas de su familia pero ahora quiere saber la cantidad de gustos diferentes que tiene que pedir.\n",
    "# Podemos pensar la lista de empanadas como una lista de strings, entonces deberíamos devolver la cantidad de strings diferentes que hay en una lista.\n",
    "lista_empanadas = [\"carne\", \"carne\", \"jamón y queso\", \"verdura\", \"choclo\", \"jamón y queso\", \"choclo\", \"carne\"]\n",
    "gustos = []\n",
    "for empanada in lista_empanadas:\n",
    "  if empanada not in gustos:\n",
    "    gustos.append(empanada)\n",
    "\n",
    "print(f\"Gustos a pedir: {\", \".join(gustos)}\")"
   ]
  },
  {
   "cell_type": "code",
   "execution_count": 2,
   "metadata": {},
   "outputs": [
    {
     "name": "stdout",
     "output_type": "stream",
     "text": [
      "Tareas con número par: [2, 4, 6, 8, 10]\n"
     ]
    }
   ],
   "source": [
    "# Manuel y su pareja armaron una lista numerada con las actividades de mantenimiento de la casa.\n",
    "# Decidieron dividirse las tareas, a Manuel le tocó hacer todas las actividades con número par, por eso necesitamos hacer una función que reciba una lista de enteros,\n",
    "# y devuelva otra lista que solamente contenga números pares, que vienen a ser las tareas de Manuel.\n",
    "def obtener_tareas_par(lista):\n",
    "  tareas_par = []\n",
    "  for tarea in lista:\n",
    "    if tarea % 2 == 0:\n",
    "      tareas_par.append(tarea)\n",
    "  return tareas_par\n",
    "\n",
    "tareas = [1, 2, 3, 4, 5, 6, 7, 8, 9, 10]\n",
    "print(f\"Tareas con número par: {obtener_tareas_par(tareas)}\")"
   ]
  },
  {
   "cell_type": "markdown",
   "metadata": {},
   "source": [
    "### Recursos con Tuplas"
   ]
  },
  {
   "cell_type": "code",
   "execution_count": 5,
   "metadata": {},
   "outputs": [
    {
     "name": "stdout",
     "output_type": "stream",
     "text": [
      "('Juan', 'María', 'Ana')\n"
     ]
    }
   ],
   "source": [
    "# Un matrimonio está organizando una fiesta y tiene que armar una lista de invitados. Cada uno tiene su propia tupla y guarda en ella a todos los que quiere invitar.\n",
    "# Si alguien cancela tienen que sacarlo de la tupla.\n",
    "\n",
    "# Hacer una función que reciba la tupla y un nombre, y devuelva una nueva tupla sin el nombre pasado por parámetro.\n",
    "def eliminar_invitado(tupla, nombre):\n",
    "  lista = list(tupla)\n",
    "  lista.remove(nombre)\n",
    "  return tuple(lista)\n",
    "\n",
    "invitados = (\"Juan\", \"Pedro\", \"María\", \"Ana\")\n",
    "print(eliminar_invitado(invitados, \"Pedro\"))"
   ]
  },
  {
   "cell_type": "code",
   "execution_count": 7,
   "metadata": {},
   "outputs": [
    {
     "name": "stdout",
     "output_type": "stream",
     "text": [
      "('Juan', 'Pedro', 'María', 'Ana', 'Carlos', 'Lucía', 'Sofía')\n"
     ]
    }
   ],
   "source": [
    "# Cuando ya tienen a todos los invitados tienen que juntar sus tuplas, para eso se necesita una función que a partir de dos tuplas cree una sola\n",
    "# que sea la combinación de ambas tuplas.\n",
    "def combinar_invitados(tupla1, tupla2):\n",
    "  return tupla1 + tupla2\n",
    "\n",
    "invitados1 = (\"Juan\", \"Pedro\", \"María\", \"Ana\")\n",
    "invitados2 = (\"Carlos\", \"Lucía\", \"Sofía\")\n",
    "print(combinar_invitados(invitados1, invitados2))"
   ]
  }
 ],
 "metadata": {
  "kernelspec": {
   "display_name": "Python 3",
   "language": "python",
   "name": "python3"
  },
  "language_info": {
   "codemirror_mode": {
    "name": "ipython",
    "version": 3
   },
   "file_extension": ".py",
   "mimetype": "text/x-python",
   "name": "python",
   "nbconvert_exporter": "python",
   "pygments_lexer": "ipython3",
   "version": "3.12.2"
  }
 },
 "nbformat": 4,
 "nbformat_minor": 2
}
